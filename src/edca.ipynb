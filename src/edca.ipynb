{
 "cells": [
  {
   "cell_type": "markdown",
   "metadata": {},
   "source": [
    "# EDCA tutorial on a arbitrary OpenML Classification dataset"
   ]
  },
  {
   "cell_type": "markdown",
   "metadata": {},
   "source": [
    "This tutorial show how to use EDCA AutoML framework on a OpenML classification dataset.\n",
    "The example starts by loading a OpenML dataset, and evaluates it using train-test*.\n",
    "\n",
    "\n",
    "*we know that train-test evaluation is not recommended for a deep experimentation of the framework, but it helps to see EDCA's functionalities."
   ]
  },
  {
   "cell_type": "markdown",
   "metadata": {},
   "source": [
    "## Imports "
   ]
  },
  {
   "cell_type": "code",
   "execution_count": 1,
   "metadata": {},
   "outputs": [],
   "source": [
    "import numpy as np\n",
    "import random\n",
    "import os\n",
    "# setup seed\n",
    "np.random.seed(42)\n",
    "random.seed(42)\n",
    "os.environ[\"PYTHONHASHSEED\"] = str(42)\n",
    "import pandas as pd\n",
    "from edca.evodata import DataCentricAutoML\n",
    "from sklearn.datasets import fetch_openml\n",
    "from sklearn.model_selection import train_test_split\n",
    "from datetime import datetime\n",
    "from sklearn import metrics"
   ]
  },
  {
   "cell_type": "code",
   "execution_count": 2,
   "metadata": {},
   "outputs": [],
   "source": [
    "import edca.evolutionary_algorithm as ea"
   ]
  },
  {
   "cell_type": "markdown",
   "metadata": {},
   "source": [
    "## Load dataset"
   ]
  },
  {
   "cell_type": "code",
   "execution_count": 3,
   "metadata": {},
   "outputs": [
    {
     "name": "stderr",
     "output_type": "stream",
     "text": [
      "/opt/homebrew/anaconda3/envs/thesis/lib/python3.8/site-packages/sklearn/datasets/_openml.py:1022: FutureWarning: The default value of `parser` will change from `'liac-arff'` to `'auto'` in 1.4. You can set `parser='auto'` to silence this warning. Therefore, an `ImportError` will be raised from 1.4 if the dataset is dense and pandas is not installed. Note that the pandas parser may return different data types. See the Notes Section in fetch_openml's API doc for details.\n",
      "  warn(\n"
     ]
    }
   ],
   "source": [
    "data_id = 151 # this example used the electricity dataset (https://openml.org/search?type=data&sort=runs&status=active&qualities.NumberOfClasses=gte_2&id=151) \n",
    "X, y = fetch_openml(data_id=151, return_X_y=True, as_frame=True)"
   ]
  },
  {
   "cell_type": "code",
   "execution_count": 4,
   "metadata": {},
   "outputs": [],
   "source": [
    "X_train, X_test, y_train, y_test = train_test_split(X, y, test_size=0.2, random_state=42)"
   ]
  },
  {
   "cell_type": "markdown",
   "metadata": {},
   "source": [
    "In this example, we will use most EDCA parameters on their default settings."
   ]
  },
  {
   "cell_type": "code",
   "execution_count": 5,
   "metadata": {},
   "outputs": [],
   "source": [
    "automl = DataCentricAutoML(\n",
    "    task='classification', # detail the ML task\n",
    "    seed=42, # ensure reproducibility\n",
    "    metric='f1', # specify the search metric\n",
    "    time_budget=-1, # specify the time budget in seconds, -1 indicates no time limit, using the iterations as stop criteria\n",
    "    n_iterations=20, # specify the number of iterations\n",
    "    log_folder_name=f'../tests/{datetime.now().strftime(\"%Y-%m-%d-%H-%M-%S\")}', # specify the log folder to store information\n",
    "    # search_space_config='classification_models_all.json',\n",
    "    use_sampling=True, # use sampling to speed up the search\n",
    "    use_feature_selection=True # use feature selection to speed up the search and improve the model generalization\n",
    ")"
   ]
  },
  {
   "cell_type": "code",
   "execution_count": 6,
   "metadata": {},
   "outputs": [
    {
     "name": "stderr",
     "output_type": "stream",
     "text": [
      "2025-03-12 20:28:59,088: INFO     Evolutionary Search\n",
      "2025-03-12 20:28:59,089: INFO     Create Initial Population\n",
      "2025-03-12 20:28:59,102: INFO     Evaluate Initial Population\n"
     ]
    },
    {
     "name": "stdout",
     "output_type": "stream",
     "text": [
      ">>> Dataset Analysis\n",
      "<<< Dataset Analysis\n"
     ]
    },
    {
     "name": "stderr",
     "output_type": "stream",
     "text": [
      "/opt/homebrew/anaconda3/envs/thesis/lib/python3.8/site-packages/sklearn/linear_model/_logistic.py:1172: UserWarning: l1_ratio parameter is only used when penalty is 'elasticnet'. Got (penalty=l2)\n",
      "  warnings.warn(\n",
      "/opt/homebrew/anaconda3/envs/thesis/lib/python3.8/site-packages/sklearn/linear_model/_sag.py:350: ConvergenceWarning: The max_iter was reached which means the coef_ did not converge\n",
      "  warnings.warn(\n",
      "2025-03-12 20:29:02,697: INFO     Start Search for the best pipeline\n",
      "/opt/homebrew/anaconda3/envs/thesis/lib/python3.8/site-packages/sklearn/linear_model/_logistic.py:1172: UserWarning: l1_ratio parameter is only used when penalty is 'elasticnet'. Got (penalty=l2)\n",
      "  warnings.warn(\n",
      "2025-03-12 20:29:04,789: INFO     Iteration 1 >>> Fitness: 0.129 - Data%: 0.016 - Metric: 0.242 - CPU Time: 0.058 - S%: 0.032 - F%: 0.500 - CDD: 0.195\n",
      "2025-03-12 20:29:05,691: INFO     Iteration 2 >>> Fitness: 0.129 - Data%: 0.016 - Metric: 0.242 - CPU Time: 0.058 - S%: 0.032 - F%: 0.500 - CDD: 0.195\n",
      "2025-03-12 20:29:06,856: INFO     Iteration 3 >>> Fitness: 0.126 - Data%: 0.010 - Metric: 0.242 - CPU Time: 0.038 - S%: 0.020 - F%: 0.500 - CDD: 0.188\n",
      "2025-03-12 20:29:07,283: INFO     Iteration 4 >>> Fitness: 0.125 - Data%: 0.019 - Metric: 0.230 - CPU Time: 0.043 - S%: 0.038 - F%: 0.500 - CDD: 0.165\n",
      "2025-03-12 20:29:07,936: INFO     Iteration 5 >>> Fitness: 0.124 - Data%: 0.007 - Metric: 0.242 - CPU Time: 0.037 - S%: 0.015 - F%: 0.500 - CDD: 0.197\n",
      "2025-03-12 20:29:08,434: INFO     Iteration 6 >>> Fitness: 0.124 - Data%: 0.007 - Metric: 0.242 - CPU Time: 0.037 - S%: 0.015 - F%: 0.500 - CDD: 0.197\n",
      "2025-03-12 20:29:09,119: INFO     Iteration 7 >>> Fitness: 0.120 - Data%: 0.007 - Metric: 0.233 - CPU Time: 0.065 - S%: 0.015 - F%: 0.500 - CDD: 0.197\n",
      "2025-03-12 20:29:09,772: INFO     Iteration 8 >>> Fitness: 0.120 - Data%: 0.007 - Metric: 0.233 - CPU Time: 0.065 - S%: 0.015 - F%: 0.500 - CDD: 0.197\n",
      "2025-03-12 20:29:10,526: INFO     Iteration 9 >>> Fitness: 0.108 - Data%: 0.010 - Metric: 0.205 - CPU Time: 0.069 - S%: 0.021 - F%: 0.500 - CDD: 0.114\n",
      "2025-03-12 20:29:11,186: INFO     Iteration 10 >>> Fitness: 0.108 - Data%: 0.010 - Metric: 0.205 - CPU Time: 0.069 - S%: 0.021 - F%: 0.500 - CDD: 0.114\n",
      "2025-03-12 20:29:11,772: INFO     Iteration 11 >>> Fitness: 0.107 - Data%: 0.008 - Metric: 0.205 - CPU Time: 0.063 - S%: 0.021 - F%: 0.375 - CDD: 0.114\n",
      "2025-03-12 20:29:12,455: INFO     Iteration 12 >>> Fitness: 0.107 - Data%: 0.008 - Metric: 0.205 - CPU Time: 0.063 - S%: 0.021 - F%: 0.375 - CDD: 0.114\n",
      "2025-03-12 20:29:13,272: INFO     Iteration 13 >>> Fitness: 0.107 - Data%: 0.008 - Metric: 0.205 - CPU Time: 0.063 - S%: 0.021 - F%: 0.375 - CDD: 0.114\n",
      "2025-03-12 20:29:14,251: INFO     Iteration 14 >>> Fitness: 0.107 - Data%: 0.008 - Metric: 0.205 - CPU Time: 0.063 - S%: 0.021 - F%: 0.375 - CDD: 0.114\n",
      "2025-03-12 20:29:15,018: INFO     Iteration 15 >>> Fitness: 0.106 - Data%: 0.013 - Metric: 0.199 - CPU Time: 0.075 - S%: 0.021 - F%: 0.625 - CDD: 0.114\n",
      "2025-03-12 20:29:15,651: INFO     Iteration 16 >>> Fitness: 0.106 - Data%: 0.013 - Metric: 0.199 - CPU Time: 0.075 - S%: 0.021 - F%: 0.625 - CDD: 0.114\n",
      "2025-03-12 20:29:16,200: INFO     Iteration 17 >>> Fitness: 0.106 - Data%: 0.013 - Metric: 0.199 - CPU Time: 0.075 - S%: 0.021 - F%: 0.625 - CDD: 0.114\n",
      "2025-03-12 20:29:17,207: INFO     Iteration 18 >>> Fitness: 0.105 - Data%: 0.013 - Metric: 0.197 - CPU Time: 0.075 - S%: 0.021 - F%: 0.625 - CDD: 0.114\n",
      "2025-03-12 20:29:18,146: INFO     Iteration 19 >>> Fitness: 0.103 - Data%: 0.016 - Metric: 0.191 - CPU Time: 0.078 - S%: 0.025 - F%: 0.625 - CDD: 0.128\n",
      "2025-03-12 20:29:18,150: INFO     Search Ended after 19 iterations with a time of 19.060697 seconds\n"
     ]
    },
    {
     "data": {
      "text/html": [
       "<style>#sk-container-id-1 {color: black;}#sk-container-id-1 pre{padding: 0;}#sk-container-id-1 div.sk-toggleable {background-color: white;}#sk-container-id-1 label.sk-toggleable__label {cursor: pointer;display: block;width: 100%;margin-bottom: 0;padding: 0.3em;box-sizing: border-box;text-align: center;}#sk-container-id-1 label.sk-toggleable__label-arrow:before {content: \"▸\";float: left;margin-right: 0.25em;color: #696969;}#sk-container-id-1 label.sk-toggleable__label-arrow:hover:before {color: black;}#sk-container-id-1 div.sk-estimator:hover label.sk-toggleable__label-arrow:before {color: black;}#sk-container-id-1 div.sk-toggleable__content {max-height: 0;max-width: 0;overflow: hidden;text-align: left;background-color: #f0f8ff;}#sk-container-id-1 div.sk-toggleable__content pre {margin: 0.2em;color: black;border-radius: 0.25em;background-color: #f0f8ff;}#sk-container-id-1 input.sk-toggleable__control:checked~div.sk-toggleable__content {max-height: 200px;max-width: 100%;overflow: auto;}#sk-container-id-1 input.sk-toggleable__control:checked~label.sk-toggleable__label-arrow:before {content: \"▾\";}#sk-container-id-1 div.sk-estimator input.sk-toggleable__control:checked~label.sk-toggleable__label {background-color: #d4ebff;}#sk-container-id-1 div.sk-label input.sk-toggleable__control:checked~label.sk-toggleable__label {background-color: #d4ebff;}#sk-container-id-1 input.sk-hidden--visually {border: 0;clip: rect(1px 1px 1px 1px);clip: rect(1px, 1px, 1px, 1px);height: 1px;margin: -1px;overflow: hidden;padding: 0;position: absolute;width: 1px;}#sk-container-id-1 div.sk-estimator {font-family: monospace;background-color: #f0f8ff;border: 1px dotted black;border-radius: 0.25em;box-sizing: border-box;margin-bottom: 0.5em;}#sk-container-id-1 div.sk-estimator:hover {background-color: #d4ebff;}#sk-container-id-1 div.sk-parallel-item::after {content: \"\";width: 100%;border-bottom: 1px solid gray;flex-grow: 1;}#sk-container-id-1 div.sk-label:hover label.sk-toggleable__label {background-color: #d4ebff;}#sk-container-id-1 div.sk-serial::before {content: \"\";position: absolute;border-left: 1px solid gray;box-sizing: border-box;top: 0;bottom: 0;left: 50%;z-index: 0;}#sk-container-id-1 div.sk-serial {display: flex;flex-direction: column;align-items: center;background-color: white;padding-right: 0.2em;padding-left: 0.2em;position: relative;}#sk-container-id-1 div.sk-item {position: relative;z-index: 1;}#sk-container-id-1 div.sk-parallel {display: flex;align-items: stretch;justify-content: center;background-color: white;position: relative;}#sk-container-id-1 div.sk-item::before, #sk-container-id-1 div.sk-parallel-item::before {content: \"\";position: absolute;border-left: 1px solid gray;box-sizing: border-box;top: 0;bottom: 0;left: 50%;z-index: -1;}#sk-container-id-1 div.sk-parallel-item {display: flex;flex-direction: column;z-index: 1;position: relative;background-color: white;}#sk-container-id-1 div.sk-parallel-item:first-child::after {align-self: flex-end;width: 50%;}#sk-container-id-1 div.sk-parallel-item:last-child::after {align-self: flex-start;width: 50%;}#sk-container-id-1 div.sk-parallel-item:only-child::after {width: 0;}#sk-container-id-1 div.sk-dashed-wrapped {border: 1px dashed gray;margin: 0 0.4em 0.5em 0.4em;box-sizing: border-box;padding-bottom: 0.4em;background-color: white;}#sk-container-id-1 div.sk-label label {font-family: monospace;font-weight: bold;display: inline-block;line-height: 1.2em;}#sk-container-id-1 div.sk-label-container {text-align: center;}#sk-container-id-1 div.sk-container {/* jupyter's `normalize.less` sets `[hidden] { display: none; }` but bootstrap.min.css set `[hidden] { display: none !important; }` so we also need the `!important` here to be able to override the default hidden behavior on the sphinx rendered scikit-learn.org. See: https://github.com/scikit-learn/scikit-learn/issues/21755 */display: inline-block !important;position: relative;}#sk-container-id-1 div.sk-text-repr-fallback {display: none;}</style><div id=\"sk-container-id-1\" class=\"sk-top-container\"><div class=\"sk-text-repr-fallback\"><pre>DataCentricAutoML(log_folder_name=&#x27;../tests/2025-03-12-20-28-57&#x27;,\n",
       "                  metric=&lt;function f1_metric at 0x33cd84160&gt;, n_iterations=20,\n",
       "                  task=&#x27;classification&#x27;, time_budget=-1,\n",
       "                  use_feature_selection=True, use_sampling=True)</pre><b>In a Jupyter environment, please rerun this cell to show the HTML representation or trust the notebook. <br />On GitHub, the HTML representation is unable to render, please try loading this page with nbviewer.org.</b></div><div class=\"sk-container\" hidden><div class=\"sk-item\"><div class=\"sk-estimator sk-toggleable\"><input class=\"sk-toggleable__control sk-hidden--visually\" id=\"sk-estimator-id-1\" type=\"checkbox\" checked><label for=\"sk-estimator-id-1\" class=\"sk-toggleable__label sk-toggleable__label-arrow\">DataCentricAutoML</label><div class=\"sk-toggleable__content\"><pre>DataCentricAutoML(log_folder_name=&#x27;../tests/2025-03-12-20-28-57&#x27;,\n",
       "                  metric=&lt;function f1_metric at 0x33cd84160&gt;, n_iterations=20,\n",
       "                  task=&#x27;classification&#x27;, time_budget=-1,\n",
       "                  use_feature_selection=True, use_sampling=True)</pre></div></div></div></div></div>"
      ],
      "text/plain": [
       "DataCentricAutoML(log_folder_name='../tests/2025-03-12-20-28-57',\n",
       "                  metric=<function f1_metric at 0x33cd84160>, n_iterations=20,\n",
       "                  task='classification', time_budget=-1,\n",
       "                  use_feature_selection=True, use_sampling=True)"
      ]
     },
     "execution_count": 6,
     "metadata": {},
     "output_type": "execute_result"
    }
   ],
   "source": [
    "automl.fit(X_train, y_train)"
   ]
  },
  {
   "cell_type": "markdown",
   "metadata": {},
   "source": [
    "0.132, 0.107"
   ]
  },
  {
   "cell_type": "markdown",
   "metadata": {},
   "source": [
    "### Best solution achieved"
   ]
  },
  {
   "cell_type": "code",
   "execution_count": 6,
   "metadata": {},
   "outputs": [
    {
     "data": {
      "text/html": [
       "<style>#sk-container-id-2 {color: black;}#sk-container-id-2 pre{padding: 0;}#sk-container-id-2 div.sk-toggleable {background-color: white;}#sk-container-id-2 label.sk-toggleable__label {cursor: pointer;display: block;width: 100%;margin-bottom: 0;padding: 0.3em;box-sizing: border-box;text-align: center;}#sk-container-id-2 label.sk-toggleable__label-arrow:before {content: \"▸\";float: left;margin-right: 0.25em;color: #696969;}#sk-container-id-2 label.sk-toggleable__label-arrow:hover:before {color: black;}#sk-container-id-2 div.sk-estimator:hover label.sk-toggleable__label-arrow:before {color: black;}#sk-container-id-2 div.sk-toggleable__content {max-height: 0;max-width: 0;overflow: hidden;text-align: left;background-color: #f0f8ff;}#sk-container-id-2 div.sk-toggleable__content pre {margin: 0.2em;color: black;border-radius: 0.25em;background-color: #f0f8ff;}#sk-container-id-2 input.sk-toggleable__control:checked~div.sk-toggleable__content {max-height: 200px;max-width: 100%;overflow: auto;}#sk-container-id-2 input.sk-toggleable__control:checked~label.sk-toggleable__label-arrow:before {content: \"▾\";}#sk-container-id-2 div.sk-estimator input.sk-toggleable__control:checked~label.sk-toggleable__label {background-color: #d4ebff;}#sk-container-id-2 div.sk-label input.sk-toggleable__control:checked~label.sk-toggleable__label {background-color: #d4ebff;}#sk-container-id-2 input.sk-hidden--visually {border: 0;clip: rect(1px 1px 1px 1px);clip: rect(1px, 1px, 1px, 1px);height: 1px;margin: -1px;overflow: hidden;padding: 0;position: absolute;width: 1px;}#sk-container-id-2 div.sk-estimator {font-family: monospace;background-color: #f0f8ff;border: 1px dotted black;border-radius: 0.25em;box-sizing: border-box;margin-bottom: 0.5em;}#sk-container-id-2 div.sk-estimator:hover {background-color: #d4ebff;}#sk-container-id-2 div.sk-parallel-item::after {content: \"\";width: 100%;border-bottom: 1px solid gray;flex-grow: 1;}#sk-container-id-2 div.sk-label:hover label.sk-toggleable__label {background-color: #d4ebff;}#sk-container-id-2 div.sk-serial::before {content: \"\";position: absolute;border-left: 1px solid gray;box-sizing: border-box;top: 0;bottom: 0;left: 50%;z-index: 0;}#sk-container-id-2 div.sk-serial {display: flex;flex-direction: column;align-items: center;background-color: white;padding-right: 0.2em;padding-left: 0.2em;position: relative;}#sk-container-id-2 div.sk-item {position: relative;z-index: 1;}#sk-container-id-2 div.sk-parallel {display: flex;align-items: stretch;justify-content: center;background-color: white;position: relative;}#sk-container-id-2 div.sk-item::before, #sk-container-id-2 div.sk-parallel-item::before {content: \"\";position: absolute;border-left: 1px solid gray;box-sizing: border-box;top: 0;bottom: 0;left: 50%;z-index: -1;}#sk-container-id-2 div.sk-parallel-item {display: flex;flex-direction: column;z-index: 1;position: relative;background-color: white;}#sk-container-id-2 div.sk-parallel-item:first-child::after {align-self: flex-end;width: 50%;}#sk-container-id-2 div.sk-parallel-item:last-child::after {align-self: flex-start;width: 50%;}#sk-container-id-2 div.sk-parallel-item:only-child::after {width: 0;}#sk-container-id-2 div.sk-dashed-wrapped {border: 1px dashed gray;margin: 0 0.4em 0.5em 0.4em;box-sizing: border-box;padding-bottom: 0.4em;background-color: white;}#sk-container-id-2 div.sk-label label {font-family: monospace;font-weight: bold;display: inline-block;line-height: 1.2em;}#sk-container-id-2 div.sk-label-container {text-align: center;}#sk-container-id-2 div.sk-container {/* jupyter's `normalize.less` sets `[hidden] { display: none; }` but bootstrap.min.css set `[hidden] { display: none !important; }` so we also need the `!important` here to be able to override the default hidden behavior on the sphinx rendered scikit-learn.org. See: https://github.com/scikit-learn/scikit-learn/issues/21755 */display: inline-block !important;position: relative;}#sk-container-id-2 div.sk-text-repr-fallback {display: none;}</style><div id=\"sk-container-id-2\" class=\"sk-top-container\"><div class=\"sk-text-repr-fallback\"><pre>PipelineEstimator(individual_config={&#x27;encoder&#x27;: {&#x27;OneHotEncoder&#x27;: {&#x27;drop&#x27;: None}},\n",
       "                                     &#x27;model&#x27;: {&#x27;KNeighborsClassifier&#x27;: {&#x27;n_neighbors&#x27;: 8,\n",
       "                                                                        &#x27;weights&#x27;: &#x27;distance&#x27;}},\n",
       "                                     &#x27;sample&#x27;: [239, 512, 514, 568, 1227, 1315,\n",
       "                                                1594, 2367, 2585, 2672, 3046,\n",
       "                                                3179, 3388, 3425, 4206, 4332,\n",
       "                                                5063, 5876, 5955, 6101, 6639,\n",
       "                                                6707, 6755, 6910, 6931, 7125,\n",
       "                                                7579, 7612, 7669, 8040, ...],\n",
       "                                     &#x27;scaler&#x27;: &#x27;StandardScaler&#x27;},\n",
       "                  individual_...\n",
       "                                   &#x27;data_augmentation&#x27;: False, &#x27;delta&#x27;: 0,\n",
       "                                   &#x27;feature_selection&#x27;: True, &#x27;fs_size&#x27;: 8,\n",
       "                                   &#x27;gama&#x27;: 0, &#x27;id_columns&#x27;: [], &#x27;null_cols&#x27;: [],\n",
       "                                   &#x27;numerical_columns&#x27;: [&#x27;date&#x27;, &#x27;period&#x27;,\n",
       "                                                         &#x27;nswprice&#x27;,\n",
       "                                                         &#x27;nswdemand&#x27;,\n",
       "                                                         &#x27;vicprice&#x27;,\n",
       "                                                         &#x27;vicdemand&#x27;,\n",
       "                                                         &#x27;transfer&#x27;],\n",
       "                                   &#x27;numerical_with_nans&#x27;: [], &#x27;sample-start&#x27;: 0,\n",
       "                                   &#x27;sampling&#x27;: True, &#x27;sampling_size&#x27;: 27186,\n",
       "                                   &#x27;seed&#x27;: 42,\n",
       "                                   &#x27;start_datetime&#x27;: 1741810897.635417,\n",
       "                                   &#x27;task&#x27;: &#x27;classification&#x27;,\n",
       "                                   &#x27;time_norm&#x27;: None})</pre><b>In a Jupyter environment, please rerun this cell to show the HTML representation or trust the notebook. <br />On GitHub, the HTML representation is unable to render, please try loading this page with nbviewer.org.</b></div><div class=\"sk-container\" hidden><div class=\"sk-item\"><div class=\"sk-estimator sk-toggleable\"><input class=\"sk-toggleable__control sk-hidden--visually\" id=\"sk-estimator-id-2\" type=\"checkbox\" checked><label for=\"sk-estimator-id-2\" class=\"sk-toggleable__label sk-toggleable__label-arrow\">PipelineEstimator</label><div class=\"sk-toggleable__content\"><pre>PipelineEstimator(individual_config={&#x27;encoder&#x27;: {&#x27;OneHotEncoder&#x27;: {&#x27;drop&#x27;: None}},\n",
       "                                     &#x27;model&#x27;: {&#x27;KNeighborsClassifier&#x27;: {&#x27;n_neighbors&#x27;: 8,\n",
       "                                                                        &#x27;weights&#x27;: &#x27;distance&#x27;}},\n",
       "                                     &#x27;sample&#x27;: [239, 512, 514, 568, 1227, 1315,\n",
       "                                                1594, 2367, 2585, 2672, 3046,\n",
       "                                                3179, 3388, 3425, 4206, 4332,\n",
       "                                                5063, 5876, 5955, 6101, 6639,\n",
       "                                                6707, 6755, 6910, 6931, 7125,\n",
       "                                                7579, 7612, 7669, 8040, ...],\n",
       "                                     &#x27;scaler&#x27;: &#x27;StandardScaler&#x27;},\n",
       "                  individual_...\n",
       "                                   &#x27;data_augmentation&#x27;: False, &#x27;delta&#x27;: 0,\n",
       "                                   &#x27;feature_selection&#x27;: True, &#x27;fs_size&#x27;: 8,\n",
       "                                   &#x27;gama&#x27;: 0, &#x27;id_columns&#x27;: [], &#x27;null_cols&#x27;: [],\n",
       "                                   &#x27;numerical_columns&#x27;: [&#x27;date&#x27;, &#x27;period&#x27;,\n",
       "                                                         &#x27;nswprice&#x27;,\n",
       "                                                         &#x27;nswdemand&#x27;,\n",
       "                                                         &#x27;vicprice&#x27;,\n",
       "                                                         &#x27;vicdemand&#x27;,\n",
       "                                                         &#x27;transfer&#x27;],\n",
       "                                   &#x27;numerical_with_nans&#x27;: [], &#x27;sample-start&#x27;: 0,\n",
       "                                   &#x27;sampling&#x27;: True, &#x27;sampling_size&#x27;: 27186,\n",
       "                                   &#x27;seed&#x27;: 42,\n",
       "                                   &#x27;start_datetime&#x27;: 1741810897.635417,\n",
       "                                   &#x27;task&#x27;: &#x27;classification&#x27;,\n",
       "                                   &#x27;time_norm&#x27;: None})</pre></div></div></div></div></div>"
      ],
      "text/plain": [
       "PipelineEstimator(individual_config={'encoder': {'OneHotEncoder': {'drop': None}},\n",
       "                                     'model': {'KNeighborsClassifier': {'n_neighbors': 8,\n",
       "                                                                        'weights': 'distance'}},\n",
       "                                     'sample': [239, 512, 514, 568, 1227, 1315,\n",
       "                                                1594, 2367, 2585, 2672, 3046,\n",
       "                                                3179, 3388, 3425, 4206, 4332,\n",
       "                                                5063, 5876, 5955, 6101, 6639,\n",
       "                                                6707, 6755, 6910, 6931, 7125,\n",
       "                                                7579, 7612, 7669, 8040, ...],\n",
       "                                     'scaler': 'StandardScaler'},\n",
       "                  individual_...\n",
       "                                   'data_augmentation': False, 'delta': 0,\n",
       "                                   'feature_selection': True, 'fs_size': 8,\n",
       "                                   'gama': 0, 'id_columns': [], 'null_cols': [],\n",
       "                                   'numerical_columns': ['date', 'period',\n",
       "                                                         'nswprice',\n",
       "                                                         'nswdemand',\n",
       "                                                         'vicprice',\n",
       "                                                         'vicdemand',\n",
       "                                                         'transfer'],\n",
       "                                   'numerical_with_nans': [], 'sample-start': 0,\n",
       "                                   'sampling': True, 'sampling_size': 27186,\n",
       "                                   'seed': 42,\n",
       "                                   'start_datetime': 1741810897.635417,\n",
       "                                   'task': 'classification',\n",
       "                                   'time_norm': None})"
      ]
     },
     "execution_count": 6,
     "metadata": {},
     "output_type": "execute_result"
    }
   ],
   "source": [
    "automl.pipeline_estimator"
   ]
  },
  {
   "cell_type": "code",
   "execution_count": 7,
   "metadata": {},
   "outputs": [
    {
     "data": {
      "text/html": [
       "<style>#sk-container-id-3 {color: black;}#sk-container-id-3 pre{padding: 0;}#sk-container-id-3 div.sk-toggleable {background-color: white;}#sk-container-id-3 label.sk-toggleable__label {cursor: pointer;display: block;width: 100%;margin-bottom: 0;padding: 0.3em;box-sizing: border-box;text-align: center;}#sk-container-id-3 label.sk-toggleable__label-arrow:before {content: \"▸\";float: left;margin-right: 0.25em;color: #696969;}#sk-container-id-3 label.sk-toggleable__label-arrow:hover:before {color: black;}#sk-container-id-3 div.sk-estimator:hover label.sk-toggleable__label-arrow:before {color: black;}#sk-container-id-3 div.sk-toggleable__content {max-height: 0;max-width: 0;overflow: hidden;text-align: left;background-color: #f0f8ff;}#sk-container-id-3 div.sk-toggleable__content pre {margin: 0.2em;color: black;border-radius: 0.25em;background-color: #f0f8ff;}#sk-container-id-3 input.sk-toggleable__control:checked~div.sk-toggleable__content {max-height: 200px;max-width: 100%;overflow: auto;}#sk-container-id-3 input.sk-toggleable__control:checked~label.sk-toggleable__label-arrow:before {content: \"▾\";}#sk-container-id-3 div.sk-estimator input.sk-toggleable__control:checked~label.sk-toggleable__label {background-color: #d4ebff;}#sk-container-id-3 div.sk-label input.sk-toggleable__control:checked~label.sk-toggleable__label {background-color: #d4ebff;}#sk-container-id-3 input.sk-hidden--visually {border: 0;clip: rect(1px 1px 1px 1px);clip: rect(1px, 1px, 1px, 1px);height: 1px;margin: -1px;overflow: hidden;padding: 0;position: absolute;width: 1px;}#sk-container-id-3 div.sk-estimator {font-family: monospace;background-color: #f0f8ff;border: 1px dotted black;border-radius: 0.25em;box-sizing: border-box;margin-bottom: 0.5em;}#sk-container-id-3 div.sk-estimator:hover {background-color: #d4ebff;}#sk-container-id-3 div.sk-parallel-item::after {content: \"\";width: 100%;border-bottom: 1px solid gray;flex-grow: 1;}#sk-container-id-3 div.sk-label:hover label.sk-toggleable__label {background-color: #d4ebff;}#sk-container-id-3 div.sk-serial::before {content: \"\";position: absolute;border-left: 1px solid gray;box-sizing: border-box;top: 0;bottom: 0;left: 50%;z-index: 0;}#sk-container-id-3 div.sk-serial {display: flex;flex-direction: column;align-items: center;background-color: white;padding-right: 0.2em;padding-left: 0.2em;position: relative;}#sk-container-id-3 div.sk-item {position: relative;z-index: 1;}#sk-container-id-3 div.sk-parallel {display: flex;align-items: stretch;justify-content: center;background-color: white;position: relative;}#sk-container-id-3 div.sk-item::before, #sk-container-id-3 div.sk-parallel-item::before {content: \"\";position: absolute;border-left: 1px solid gray;box-sizing: border-box;top: 0;bottom: 0;left: 50%;z-index: -1;}#sk-container-id-3 div.sk-parallel-item {display: flex;flex-direction: column;z-index: 1;position: relative;background-color: white;}#sk-container-id-3 div.sk-parallel-item:first-child::after {align-self: flex-end;width: 50%;}#sk-container-id-3 div.sk-parallel-item:last-child::after {align-self: flex-start;width: 50%;}#sk-container-id-3 div.sk-parallel-item:only-child::after {width: 0;}#sk-container-id-3 div.sk-dashed-wrapped {border: 1px dashed gray;margin: 0 0.4em 0.5em 0.4em;box-sizing: border-box;padding-bottom: 0.4em;background-color: white;}#sk-container-id-3 div.sk-label label {font-family: monospace;font-weight: bold;display: inline-block;line-height: 1.2em;}#sk-container-id-3 div.sk-label-container {text-align: center;}#sk-container-id-3 div.sk-container {/* jupyter's `normalize.less` sets `[hidden] { display: none; }` but bootstrap.min.css set `[hidden] { display: none !important; }` so we also need the `!important` here to be able to override the default hidden behavior on the sphinx rendered scikit-learn.org. See: https://github.com/scikit-learn/scikit-learn/issues/21755 */display: inline-block !important;position: relative;}#sk-container-id-3 div.sk-text-repr-fallback {display: none;}</style><div id=\"sk-container-id-3\" class=\"sk-top-container\"><div class=\"sk-text-repr-fallback\"><pre>ColumnTransformer(transformers=[(&#x27;num&#x27;,\n",
       "                                 Pipeline(steps=[(&#x27;scaler&#x27;, StandardScaler())]),\n",
       "                                 [&#x27;date&#x27;, &#x27;period&#x27;, &#x27;vicprice&#x27;, &#x27;vicdemand&#x27;,\n",
       "                                  &#x27;nswdemand&#x27;, &#x27;transfer&#x27;, &#x27;nswprice&#x27;]),\n",
       "                                (&#x27;cat&#x27;,\n",
       "                                 Pipeline(steps=[(&#x27;encoder&#x27;,\n",
       "                                                  OneHotEncoder(handle_unknown=&#x27;ignore&#x27;,\n",
       "                                                                sparse_output=False))]),\n",
       "                                 [&#x27;day&#x27;])],\n",
       "                  verbose_feature_names_out=False)</pre><b>In a Jupyter environment, please rerun this cell to show the HTML representation or trust the notebook. <br />On GitHub, the HTML representation is unable to render, please try loading this page with nbviewer.org.</b></div><div class=\"sk-container\" hidden><div class=\"sk-item sk-dashed-wrapped\"><div class=\"sk-label-container\"><div class=\"sk-label sk-toggleable\"><input class=\"sk-toggleable__control sk-hidden--visually\" id=\"sk-estimator-id-3\" type=\"checkbox\" ><label for=\"sk-estimator-id-3\" class=\"sk-toggleable__label sk-toggleable__label-arrow\">ColumnTransformer</label><div class=\"sk-toggleable__content\"><pre>ColumnTransformer(transformers=[(&#x27;num&#x27;,\n",
       "                                 Pipeline(steps=[(&#x27;scaler&#x27;, StandardScaler())]),\n",
       "                                 [&#x27;date&#x27;, &#x27;period&#x27;, &#x27;vicprice&#x27;, &#x27;vicdemand&#x27;,\n",
       "                                  &#x27;nswdemand&#x27;, &#x27;transfer&#x27;, &#x27;nswprice&#x27;]),\n",
       "                                (&#x27;cat&#x27;,\n",
       "                                 Pipeline(steps=[(&#x27;encoder&#x27;,\n",
       "                                                  OneHotEncoder(handle_unknown=&#x27;ignore&#x27;,\n",
       "                                                                sparse_output=False))]),\n",
       "                                 [&#x27;day&#x27;])],\n",
       "                  verbose_feature_names_out=False)</pre></div></div></div><div class=\"sk-parallel\"><div class=\"sk-parallel-item\"><div class=\"sk-item\"><div class=\"sk-label-container\"><div class=\"sk-label sk-toggleable\"><input class=\"sk-toggleable__control sk-hidden--visually\" id=\"sk-estimator-id-4\" type=\"checkbox\" ><label for=\"sk-estimator-id-4\" class=\"sk-toggleable__label sk-toggleable__label-arrow\">num</label><div class=\"sk-toggleable__content\"><pre>[&#x27;date&#x27;, &#x27;period&#x27;, &#x27;vicprice&#x27;, &#x27;vicdemand&#x27;, &#x27;nswdemand&#x27;, &#x27;transfer&#x27;, &#x27;nswprice&#x27;]</pre></div></div></div><div class=\"sk-serial\"><div class=\"sk-item\"><div class=\"sk-serial\"><div class=\"sk-item\"><div class=\"sk-estimator sk-toggleable\"><input class=\"sk-toggleable__control sk-hidden--visually\" id=\"sk-estimator-id-5\" type=\"checkbox\" ><label for=\"sk-estimator-id-5\" class=\"sk-toggleable__label sk-toggleable__label-arrow\">StandardScaler</label><div class=\"sk-toggleable__content\"><pre>StandardScaler()</pre></div></div></div></div></div></div></div></div><div class=\"sk-parallel-item\"><div class=\"sk-item\"><div class=\"sk-label-container\"><div class=\"sk-label sk-toggleable\"><input class=\"sk-toggleable__control sk-hidden--visually\" id=\"sk-estimator-id-6\" type=\"checkbox\" ><label for=\"sk-estimator-id-6\" class=\"sk-toggleable__label sk-toggleable__label-arrow\">cat</label><div class=\"sk-toggleable__content\"><pre>[&#x27;day&#x27;]</pre></div></div></div><div class=\"sk-serial\"><div class=\"sk-item\"><div class=\"sk-serial\"><div class=\"sk-item\"><div class=\"sk-estimator sk-toggleable\"><input class=\"sk-toggleable__control sk-hidden--visually\" id=\"sk-estimator-id-7\" type=\"checkbox\" ><label for=\"sk-estimator-id-7\" class=\"sk-toggleable__label sk-toggleable__label-arrow\">OneHotEncoder</label><div class=\"sk-toggleable__content\"><pre>OneHotEncoder(handle_unknown=&#x27;ignore&#x27;, sparse_output=False)</pre></div></div></div></div></div></div></div></div></div></div></div></div>"
      ],
      "text/plain": [
       "ColumnTransformer(transformers=[('num',\n",
       "                                 Pipeline(steps=[('scaler', StandardScaler())]),\n",
       "                                 ['date', 'period', 'vicprice', 'vicdemand',\n",
       "                                  'nswdemand', 'transfer', 'nswprice']),\n",
       "                                ('cat',\n",
       "                                 Pipeline(steps=[('encoder',\n",
       "                                                  OneHotEncoder(handle_unknown='ignore',\n",
       "                                                                sparse_output=False))]),\n",
       "                                 ['day'])],\n",
       "                  verbose_feature_names_out=False)"
      ]
     },
     "execution_count": 7,
     "metadata": {},
     "output_type": "execute_result"
    }
   ],
   "source": [
    "# data processor\n",
    "automl.pipeline_estimator.pipeline"
   ]
  },
  {
   "cell_type": "code",
   "execution_count": 8,
   "metadata": {},
   "outputs": [
    {
     "data": {
      "text/html": [
       "<style>#sk-container-id-4 {color: black;}#sk-container-id-4 pre{padding: 0;}#sk-container-id-4 div.sk-toggleable {background-color: white;}#sk-container-id-4 label.sk-toggleable__label {cursor: pointer;display: block;width: 100%;margin-bottom: 0;padding: 0.3em;box-sizing: border-box;text-align: center;}#sk-container-id-4 label.sk-toggleable__label-arrow:before {content: \"▸\";float: left;margin-right: 0.25em;color: #696969;}#sk-container-id-4 label.sk-toggleable__label-arrow:hover:before {color: black;}#sk-container-id-4 div.sk-estimator:hover label.sk-toggleable__label-arrow:before {color: black;}#sk-container-id-4 div.sk-toggleable__content {max-height: 0;max-width: 0;overflow: hidden;text-align: left;background-color: #f0f8ff;}#sk-container-id-4 div.sk-toggleable__content pre {margin: 0.2em;color: black;border-radius: 0.25em;background-color: #f0f8ff;}#sk-container-id-4 input.sk-toggleable__control:checked~div.sk-toggleable__content {max-height: 200px;max-width: 100%;overflow: auto;}#sk-container-id-4 input.sk-toggleable__control:checked~label.sk-toggleable__label-arrow:before {content: \"▾\";}#sk-container-id-4 div.sk-estimator input.sk-toggleable__control:checked~label.sk-toggleable__label {background-color: #d4ebff;}#sk-container-id-4 div.sk-label input.sk-toggleable__control:checked~label.sk-toggleable__label {background-color: #d4ebff;}#sk-container-id-4 input.sk-hidden--visually {border: 0;clip: rect(1px 1px 1px 1px);clip: rect(1px, 1px, 1px, 1px);height: 1px;margin: -1px;overflow: hidden;padding: 0;position: absolute;width: 1px;}#sk-container-id-4 div.sk-estimator {font-family: monospace;background-color: #f0f8ff;border: 1px dotted black;border-radius: 0.25em;box-sizing: border-box;margin-bottom: 0.5em;}#sk-container-id-4 div.sk-estimator:hover {background-color: #d4ebff;}#sk-container-id-4 div.sk-parallel-item::after {content: \"\";width: 100%;border-bottom: 1px solid gray;flex-grow: 1;}#sk-container-id-4 div.sk-label:hover label.sk-toggleable__label {background-color: #d4ebff;}#sk-container-id-4 div.sk-serial::before {content: \"\";position: absolute;border-left: 1px solid gray;box-sizing: border-box;top: 0;bottom: 0;left: 50%;z-index: 0;}#sk-container-id-4 div.sk-serial {display: flex;flex-direction: column;align-items: center;background-color: white;padding-right: 0.2em;padding-left: 0.2em;position: relative;}#sk-container-id-4 div.sk-item {position: relative;z-index: 1;}#sk-container-id-4 div.sk-parallel {display: flex;align-items: stretch;justify-content: center;background-color: white;position: relative;}#sk-container-id-4 div.sk-item::before, #sk-container-id-4 div.sk-parallel-item::before {content: \"\";position: absolute;border-left: 1px solid gray;box-sizing: border-box;top: 0;bottom: 0;left: 50%;z-index: -1;}#sk-container-id-4 div.sk-parallel-item {display: flex;flex-direction: column;z-index: 1;position: relative;background-color: white;}#sk-container-id-4 div.sk-parallel-item:first-child::after {align-self: flex-end;width: 50%;}#sk-container-id-4 div.sk-parallel-item:last-child::after {align-self: flex-start;width: 50%;}#sk-container-id-4 div.sk-parallel-item:only-child::after {width: 0;}#sk-container-id-4 div.sk-dashed-wrapped {border: 1px dashed gray;margin: 0 0.4em 0.5em 0.4em;box-sizing: border-box;padding-bottom: 0.4em;background-color: white;}#sk-container-id-4 div.sk-label label {font-family: monospace;font-weight: bold;display: inline-block;line-height: 1.2em;}#sk-container-id-4 div.sk-label-container {text-align: center;}#sk-container-id-4 div.sk-container {/* jupyter's `normalize.less` sets `[hidden] { display: none; }` but bootstrap.min.css set `[hidden] { display: none !important; }` so we also need the `!important` here to be able to override the default hidden behavior on the sphinx rendered scikit-learn.org. See: https://github.com/scikit-learn/scikit-learn/issues/21755 */display: inline-block !important;position: relative;}#sk-container-id-4 div.sk-text-repr-fallback {display: none;}</style><div id=\"sk-container-id-4\" class=\"sk-top-container\"><div class=\"sk-text-repr-fallback\"><pre>KNeighborsClassifier(n_neighbors=8, weights=&#x27;distance&#x27;)</pre><b>In a Jupyter environment, please rerun this cell to show the HTML representation or trust the notebook. <br />On GitHub, the HTML representation is unable to render, please try loading this page with nbviewer.org.</b></div><div class=\"sk-container\" hidden><div class=\"sk-item\"><div class=\"sk-estimator sk-toggleable\"><input class=\"sk-toggleable__control sk-hidden--visually\" id=\"sk-estimator-id-8\" type=\"checkbox\" checked><label for=\"sk-estimator-id-8\" class=\"sk-toggleable__label sk-toggleable__label-arrow\">KNeighborsClassifier</label><div class=\"sk-toggleable__content\"><pre>KNeighborsClassifier(n_neighbors=8, weights=&#x27;distance&#x27;)</pre></div></div></div></div></div>"
      ],
      "text/plain": [
       "KNeighborsClassifier(n_neighbors=8, weights='distance')"
      ]
     },
     "execution_count": 8,
     "metadata": {},
     "output_type": "execute_result"
    }
   ],
   "source": [
    "# classification model\n",
    "automl.pipeline_estimator.model"
   ]
  },
  {
   "cell_type": "markdown",
   "metadata": {},
   "source": [
    "### Selected data"
   ]
  },
  {
   "cell_type": "markdown",
   "metadata": {},
   "source": [
    "Furthermore, we can analyze the selected data in comparison to the original train data. The results show that EDCA substantially reduces the data, which decreases the computational costs associated."
   ]
  },
  {
   "cell_type": "code",
   "execution_count": 9,
   "metadata": {},
   "outputs": [
    {
     "data": {
      "application/vnd.microsoft.datawrangler.viewer.v0+json": {
       "columns": [
        {
         "name": "index",
         "rawType": "int64",
         "type": "integer"
        },
        {
         "name": "date",
         "rawType": "float64",
         "type": "float"
        },
        {
         "name": "day",
         "rawType": "category",
         "type": "unknown"
        },
        {
         "name": "period",
         "rawType": "float64",
         "type": "float"
        },
        {
         "name": "nswprice",
         "rawType": "float64",
         "type": "float"
        },
        {
         "name": "nswdemand",
         "rawType": "float64",
         "type": "float"
        },
        {
         "name": "vicprice",
         "rawType": "float64",
         "type": "float"
        },
        {
         "name": "vicdemand",
         "rawType": "float64",
         "type": "float"
        },
        {
         "name": "transfer",
         "rawType": "float64",
         "type": "float"
        }
       ],
       "conversionMethod": "pd.DataFrame",
       "ref": "a62156ac-7c99-40f4-ac03-de26ea807252",
       "rows": [
        [
         "15541",
         "0.43445",
         "3",
         "0.787234",
         "0.070974",
         "0.477983",
         "0.003467",
         "0.422915",
         "0.414912"
        ],
        [
         "15951",
         "0.437901",
         "5",
         "0.319149",
         "0.05326",
         "0.402112",
         "0.003467",
         "0.422915",
         "0.414912"
        ],
        [
         "11841",
         "0.424804",
         "3",
         "0.702128",
         "0.058394",
         "0.357929",
         "0.003467",
         "0.422915",
         "0.414912"
        ],
        [
         "12893",
         "0.425778",
         "4",
         "0.617021",
         "0.084965",
         "0.512943",
         "0.003467",
         "0.422915",
         "0.414912"
        ],
        [
         "39217",
         "0.897925",
         "7",
         "0.021277",
         "0.113066",
         "0.605326",
         "0.005189",
         "0.462455",
         "0.595175"
        ],
        [
         "19993",
         "0.447724",
         "5",
         "0.531915",
         "0.043233",
         "0.638798",
         "0.003039",
         "0.616779",
         "0.263158"
        ],
        [
         "43913",
         "0.91142",
         "6",
         "0.87234",
         "0.036208",
         "0.349747",
         "0.002385",
         "0.387364",
         "0.481579"
        ],
        [
         "33483",
         "0.880315",
         "6",
         "0.574468",
         "0.055122",
         "0.573639",
         "0.003922",
         "0.505438",
         "0.192544"
        ],
        [
         "17756",
         "0.442591",
         "7",
         "0.93617",
         "0.077789",
         "0.447635",
         "0.005201",
         "0.308648",
         "0.500526"
        ],
        [
         "34041",
         "0.880846",
         "4",
         "0.191489",
         "0.021737",
         "0.144005",
         "0.001381",
         "0.241585",
         "0.844298"
        ],
        [
         "45158",
         "0.915667",
         "4",
         "0.808511",
         "0.054461",
         "0.452098",
         "0.003646",
         "0.491455",
         "0.412281"
        ],
        [
         "25013",
         "0.46467",
         "5",
         "0.106383",
         "0.030083",
         "0.233115",
         "0.002056",
         "0.274728",
         "0.44386"
        ],
        [
         "24121",
         "0.460732",
         "7",
         "0.531915",
         "0.035847",
         "0.389616",
         "0.00247",
         "0.25479",
         "0.336842"
        ],
        [
         "32950",
         "0.876775",
         "2",
         "0.468085",
         "0.054732",
         "0.752901",
         "0.003648",
         "0.633351",
         "0.475877"
        ],
        [
         "44876",
         "0.912305",
         "5",
         "0.93617",
         "0.074787",
         "0.454924",
         "0.005071",
         "0.350596",
         "0.45614"
        ],
        [
         "14146",
         "0.429981",
         "2",
         "0.723404",
         "0.070794",
         "0.501636",
         "0.003467",
         "0.422915",
         "0.414912"
        ],
        [
         "16071",
         "0.437989",
         "7",
         "0.829787",
         "0.048337",
         "0.363285",
         "0.003467",
         "0.422915",
         "0.414912"
        ],
        [
         "30797",
         "0.871599",
         "6",
         "0.617021",
         "0.031734",
         "0.693395",
         "0.002071",
         "0.643708",
         "0.592544"
        ],
        [
         "9838",
         "0.027432",
         "3",
         "0.978723",
         "0.061036",
         "0.418477",
         "0.003467",
         "0.422915",
         "0.414912"
        ],
        [
         "33321",
         "0.877129",
         "3",
         "0.191489",
         "0.033445",
         "0.188486",
         "0.002164",
         "0.209736",
         "0.587281"
        ],
        [
         "5550",
         "0.014291",
         "5",
         "0.638298",
         "0.105981",
         "0.598631",
         "0.003467",
         "0.422915",
         "0.414912"
        ],
        [
         "22637",
         "0.456307",
         "4",
         "0.617021",
         "0.034016",
         "0.511901",
         "0.002302",
         "0.570171",
         "0.556579"
        ],
        [
         "14356",
         "0.433388",
         "7",
         "0.085106",
         "0.040801",
         "0.092681",
         "0.003467",
         "0.422915",
         "0.414912"
        ],
        [
         "35742",
         "0.885492",
         "4",
         "0.638298",
         "0.029633",
         "0.479768",
         "0.002059",
         "0.61885",
         "0.355702"
        ],
        [
         "13332",
         "0.429229",
         "6",
         "0.765957",
         "0.086316",
         "0.417435",
         "0.003467",
         "0.422915",
         "0.414912"
        ],
        [
         "44698",
         "0.912172",
         "2",
         "0.212766",
         "0.076528",
         "0.291877",
         "0.005201",
         "0.301916",
         "0.437281"
        ],
        [
         "17511",
         "0.44237",
         "2",
         "0.829787",
         "0.074397",
         "0.467123",
         "0.00521",
         "0.470999",
         "0.500526"
        ],
        [
         "912",
         "0.000841",
         "7",
         "0.0",
         "0.090219",
         "0.353169",
         "0.003467",
         "0.422915",
         "0.414912"
        ],
        [
         "2190",
         "0.005044",
         "5",
         "0.638298",
         "0.042422",
         "0.459685",
         "0.003467",
         "0.422915",
         "0.414912"
        ],
        [
         "12503",
         "0.425424",
         "3",
         "0.489362",
         "0.122703",
         "0.636864",
         "0.003467",
         "0.422915",
         "0.414912"
        ],
        [
         "33559",
         "0.880404",
         "1",
         "0.148936",
         "0.02678",
         "0.096697",
         "0.00173",
         "0.18436",
         "0.743421"
        ],
        [
         "31523",
         "0.872262",
         "7",
         "0.744681",
         "0.030653",
         "0.36507",
         "0.001967",
         "0.299586",
         "0.860526"
        ],
        [
         "31400",
         "0.872174",
         "5",
         "0.170213",
         "0.025279",
         "0.167956",
         "0.000841",
         "0.259969",
         "0.874561"
        ],
        [
         "24731",
         "0.464404",
         "6",
         "0.234043",
         "0.028552",
         "0.198155",
         "0.001924",
         "0.214656",
         "0.532018"
        ],
        [
         "4187",
         "0.013053",
         "5",
         "0.234043",
         "0.048247",
         "0.284439",
         "0.003467",
         "0.422915",
         "0.414912"
        ],
        [
         "22922",
         "0.456573",
         "3",
         "0.553191",
         "0.037529",
         "0.564267",
         "0.002532",
         "0.617556",
         "0.439912"
        ],
        [
         "31158",
         "0.871953",
         "7",
         "0.12766",
         "0.028552",
         "0.143558",
         "0.001284",
         "0.202227",
         "0.769737"
        ],
        [
         "29135",
         "0.866997",
         "6",
         "1.0",
         "0.032545",
         "0.353169",
         "0.002185",
         "0.26696",
         "0.701754"
        ],
        [
         "30181",
         "0.86797",
         "7",
         "0.787234",
         "0.034136",
         "0.378459",
         "0.002181",
         "0.277576",
         "0.790789"
        ],
        [
         "30021",
         "0.867838",
         "4",
         "0.446809",
         "0.029693",
         "0.580482",
         "0.001926",
         "0.617038",
         "0.549561"
        ],
        [
         "24418",
         "0.460997",
         "6",
         "0.723404",
         "0.030023",
         "0.450907",
         "0.002071",
         "0.413516",
         "0.326316"
        ],
        [
         "22984",
         "0.456617",
         "4",
         "0.851064",
         "0.037799",
         "0.653972",
         "0.00252",
         "0.552822",
         "0.611404"
        ],
        [
         "39600",
         "0.898279",
         "1",
         "0.0",
         "0.083614",
         "0.441238",
         "0.004518",
         "0.457794",
         "0.611404"
        ],
        [
         "43335",
         "0.907836",
         "1",
         "0.829787",
         "0.046535",
         "0.395567",
         "0.00312",
         "0.343086",
         "0.55307"
        ],
        [
         "20751",
         "0.451529",
         "7",
         "0.319149",
         "0.035277",
         "0.463404",
         "0.001685",
         "0.328586",
         "0.814035"
        ],
        [
         "35982",
         "0.97332",
         "2",
         "0.638298",
         "0.028942",
         "0.506397",
         "0.002025",
         "0.599689",
         "0.311404"
        ],
        [
         "5502",
         "0.014247",
         "4",
         "0.638298",
         "0.040591",
         "0.465635",
         "0.003467",
         "0.422915",
         "0.414912"
        ],
        [
         "43391",
         "0.90788",
         "2",
         "1.0",
         "0.079831",
         "0.417882",
         "0.005363",
         "0.444588",
         "0.473684"
        ],
        [
         "37204",
         "0.889916",
         "7",
         "0.085106",
         "0.040381",
         "0.410146",
         "0.001992",
         "0.458571",
         "0.480702"
        ],
        [
         "42",
         "0.0",
         "2",
         "0.893617",
         "0.041161",
         "0.368789",
         "0.003467",
         "0.422915",
         "0.414912"
        ]
       ],
       "shape": {
        "columns": 8,
        "rows": 107
       }
      },
      "text/html": [
       "<div>\n",
       "<style scoped>\n",
       "    .dataframe tbody tr th:only-of-type {\n",
       "        vertical-align: middle;\n",
       "    }\n",
       "\n",
       "    .dataframe tbody tr th {\n",
       "        vertical-align: top;\n",
       "    }\n",
       "\n",
       "    .dataframe thead th {\n",
       "        text-align: right;\n",
       "    }\n",
       "</style>\n",
       "<table border=\"1\" class=\"dataframe\">\n",
       "  <thead>\n",
       "    <tr style=\"text-align: right;\">\n",
       "      <th></th>\n",
       "      <th>date</th>\n",
       "      <th>day</th>\n",
       "      <th>period</th>\n",
       "      <th>nswprice</th>\n",
       "      <th>nswdemand</th>\n",
       "      <th>vicprice</th>\n",
       "      <th>vicdemand</th>\n",
       "      <th>transfer</th>\n",
       "    </tr>\n",
       "  </thead>\n",
       "  <tbody>\n",
       "    <tr>\n",
       "      <th>15541</th>\n",
       "      <td>0.434450</td>\n",
       "      <td>3</td>\n",
       "      <td>0.787234</td>\n",
       "      <td>0.070974</td>\n",
       "      <td>0.477983</td>\n",
       "      <td>0.003467</td>\n",
       "      <td>0.422915</td>\n",
       "      <td>0.414912</td>\n",
       "    </tr>\n",
       "    <tr>\n",
       "      <th>15951</th>\n",
       "      <td>0.437901</td>\n",
       "      <td>5</td>\n",
       "      <td>0.319149</td>\n",
       "      <td>0.053260</td>\n",
       "      <td>0.402112</td>\n",
       "      <td>0.003467</td>\n",
       "      <td>0.422915</td>\n",
       "      <td>0.414912</td>\n",
       "    </tr>\n",
       "    <tr>\n",
       "      <th>11841</th>\n",
       "      <td>0.424804</td>\n",
       "      <td>3</td>\n",
       "      <td>0.702128</td>\n",
       "      <td>0.058394</td>\n",
       "      <td>0.357929</td>\n",
       "      <td>0.003467</td>\n",
       "      <td>0.422915</td>\n",
       "      <td>0.414912</td>\n",
       "    </tr>\n",
       "    <tr>\n",
       "      <th>12893</th>\n",
       "      <td>0.425778</td>\n",
       "      <td>4</td>\n",
       "      <td>0.617021</td>\n",
       "      <td>0.084965</td>\n",
       "      <td>0.512943</td>\n",
       "      <td>0.003467</td>\n",
       "      <td>0.422915</td>\n",
       "      <td>0.414912</td>\n",
       "    </tr>\n",
       "    <tr>\n",
       "      <th>39217</th>\n",
       "      <td>0.897925</td>\n",
       "      <td>7</td>\n",
       "      <td>0.021277</td>\n",
       "      <td>0.113066</td>\n",
       "      <td>0.605326</td>\n",
       "      <td>0.005189</td>\n",
       "      <td>0.462455</td>\n",
       "      <td>0.595175</td>\n",
       "    </tr>\n",
       "    <tr>\n",
       "      <th>...</th>\n",
       "      <td>...</td>\n",
       "      <td>...</td>\n",
       "      <td>...</td>\n",
       "      <td>...</td>\n",
       "      <td>...</td>\n",
       "      <td>...</td>\n",
       "      <td>...</td>\n",
       "      <td>...</td>\n",
       "    </tr>\n",
       "    <tr>\n",
       "      <th>26035</th>\n",
       "      <td>0.465599</td>\n",
       "      <td>5</td>\n",
       "      <td>0.404255</td>\n",
       "      <td>0.056293</td>\n",
       "      <td>0.534216</td>\n",
       "      <td>0.003905</td>\n",
       "      <td>0.502330</td>\n",
       "      <td>0.336842</td>\n",
       "    </tr>\n",
       "    <tr>\n",
       "      <th>23177</th>\n",
       "      <td>0.456794</td>\n",
       "      <td>1</td>\n",
       "      <td>0.872340</td>\n",
       "      <td>0.030023</td>\n",
       "      <td>0.434692</td>\n",
       "      <td>0.001998</td>\n",
       "      <td>0.352667</td>\n",
       "      <td>0.732456</td>\n",
       "    </tr>\n",
       "    <tr>\n",
       "      <th>41844</th>\n",
       "      <td>0.903367</td>\n",
       "      <td>5</td>\n",
       "      <td>0.765957</td>\n",
       "      <td>0.078029</td>\n",
       "      <td>0.586284</td>\n",
       "      <td>0.005239</td>\n",
       "      <td>0.563698</td>\n",
       "      <td>0.478947</td>\n",
       "    </tr>\n",
       "    <tr>\n",
       "      <th>15934</th>\n",
       "      <td>0.437857</td>\n",
       "      <td>4</td>\n",
       "      <td>0.978723</td>\n",
       "      <td>0.045935</td>\n",
       "      <td>0.425915</td>\n",
       "      <td>0.003467</td>\n",
       "      <td>0.422915</td>\n",
       "      <td>0.414912</td>\n",
       "    </tr>\n",
       "    <tr>\n",
       "      <th>24917</th>\n",
       "      <td>0.464581</td>\n",
       "      <td>3</td>\n",
       "      <td>0.106383</td>\n",
       "      <td>0.028342</td>\n",
       "      <td>0.174502</td>\n",
       "      <td>0.001911</td>\n",
       "      <td>0.305800</td>\n",
       "      <td>0.565351</td>\n",
       "    </tr>\n",
       "  </tbody>\n",
       "</table>\n",
       "<p>107 rows × 8 columns</p>\n",
       "</div>"
      ],
      "text/plain": [
       "           date day    period  nswprice  nswdemand  vicprice  vicdemand  \\\n",
       "15541  0.434450   3  0.787234  0.070974   0.477983  0.003467   0.422915   \n",
       "15951  0.437901   5  0.319149  0.053260   0.402112  0.003467   0.422915   \n",
       "11841  0.424804   3  0.702128  0.058394   0.357929  0.003467   0.422915   \n",
       "12893  0.425778   4  0.617021  0.084965   0.512943  0.003467   0.422915   \n",
       "39217  0.897925   7  0.021277  0.113066   0.605326  0.005189   0.462455   \n",
       "...         ...  ..       ...       ...        ...       ...        ...   \n",
       "26035  0.465599   5  0.404255  0.056293   0.534216  0.003905   0.502330   \n",
       "23177  0.456794   1  0.872340  0.030023   0.434692  0.001998   0.352667   \n",
       "41844  0.903367   5  0.765957  0.078029   0.586284  0.005239   0.563698   \n",
       "15934  0.437857   4  0.978723  0.045935   0.425915  0.003467   0.422915   \n",
       "24917  0.464581   3  0.106383  0.028342   0.174502  0.001911   0.305800   \n",
       "\n",
       "       transfer  \n",
       "15541  0.414912  \n",
       "15951  0.414912  \n",
       "11841  0.414912  \n",
       "12893  0.414912  \n",
       "39217  0.595175  \n",
       "...         ...  \n",
       "26035  0.336842  \n",
       "23177  0.732456  \n",
       "41844  0.478947  \n",
       "15934  0.414912  \n",
       "24917  0.565351  \n",
       "\n",
       "[107 rows x 8 columns]"
      ]
     },
     "execution_count": 9,
     "metadata": {},
     "output_type": "execute_result"
    }
   ],
   "source": [
    "final_X, final_y = automl.get_final_data()\n",
    "final_X"
   ]
  },
  {
   "cell_type": "markdown",
   "metadata": {},
   "source": [
    "524 samples"
   ]
  },
  {
   "cell_type": "markdown",
   "metadata": {},
   "source": [
    "EDCA used instance and feature selection, which considerably reduced the final dataset, reducing the computational costs associated."
   ]
  },
  {
   "cell_type": "code",
   "execution_count": 10,
   "metadata": {},
   "outputs": [
    {
     "name": "stdout",
     "output_type": "stream",
     "text": [
      "Original Train dataset: (36249, 8)\n",
      "EDCA internal train dataset (27186, 8)\n",
      "EDCA selected dataset: (107, 8)\n"
     ]
    }
   ],
   "source": [
    "print('Original Train dataset:', X_train.shape)\n",
    "print('EDCA internal train dataset', automl.internal_x_train.shape)\n",
    "print('EDCA selected dataset:', automl.get_final_data_shape())"
   ]
  },
  {
   "cell_type": "markdown",
   "metadata": {},
   "source": [
    "1385, 2"
   ]
  },
  {
   "cell_type": "markdown",
   "metadata": {},
   "source": [
    "## Making predictions"
   ]
  },
  {
   "cell_type": "code",
   "execution_count": 11,
   "metadata": {},
   "outputs": [],
   "source": [
    "preds = automl.predict(X_test)\n",
    "preds_proba = automl.predict_proba(X_test)"
   ]
  },
  {
   "cell_type": "code",
   "execution_count": 12,
   "metadata": {},
   "outputs": [
    {
     "name": "stdout",
     "output_type": "stream",
     "text": [
      "              precision    recall  f1-score   support\n",
      "\n",
      "        DOWN       0.77      0.85      0.81      5191\n",
      "          UP       0.77      0.67      0.71      3872\n",
      "\n",
      "    accuracy                           0.77      9063\n",
      "   macro avg       0.77      0.76      0.76      9063\n",
      "weighted avg       0.77      0.77      0.77      9063\n",
      "\n"
     ]
    }
   ],
   "source": [
    "print(metrics.classification_report(y_test, preds))"
   ]
  },
  {
   "cell_type": "markdown",
   "metadata": {},
   "source": [
    "f1 down = 0.84\n",
    "f1 up = 0.75\n",
    "f1 macro avg = 0.80"
   ]
  }
 ],
 "metadata": {
  "kernelspec": {
   "display_name": "thesis",
   "language": "python",
   "name": "thesis"
  },
  "language_info": {
   "codemirror_mode": {
    "name": "ipython",
    "version": 3
   },
   "file_extension": ".py",
   "mimetype": "text/x-python",
   "name": "python",
   "nbconvert_exporter": "python",
   "pygments_lexer": "ipython3",
   "version": "3.8.16"
  }
 },
 "nbformat": 4,
 "nbformat_minor": 2
}
