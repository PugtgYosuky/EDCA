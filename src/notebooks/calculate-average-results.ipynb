{
 "cells": [
  {
   "cell_type": "markdown",
   "metadata": {},
   "source": [
    "# Calculate average results\n",
    "\n",
    "This notebooks used the results from the experiments and calculate the average results per run."
   ]
  },
  {
   "cell_type": "code",
   "execution_count": 1,
   "metadata": {},
   "outputs": [],
   "source": [
    "import os\n",
    "import shutil\n",
    "import json\n",
    "import pandas as pd\n",
    "import numpy as np\n",
    "from scipy import stats"
   ]
  },
  {
   "cell_type": "code",
   "execution_count": null,
   "metadata": {},
   "outputs": [],
   "source": [
    "save_path = os.path.join('..', '..', 'data', 'results-csv')\n",
    "if not os.path.exists(save_path):\n",
    "    os.makedirs(save_path)"
   ]
  },
  {
   "cell_type": "code",
   "execution_count": null,
   "metadata": {},
   "outputs": [],
   "source": [
    "datasets = ['Amazon_employee_access', 'Australian', 'adult', 'bank-marketing', 'cnae-9', 'credit-g', 'mfeat-factors']\n",
    "frameworks = ['edca-1-0-0', 'flaml', 'tpot']"
   ]
  },
  {
   "cell_type": "code",
   "execution_count": null,
   "metadata": {},
   "outputs": [],
   "source": [
    "for dataset in datasets:\n",
    "    p = os.path.join(save_path, dataset)\n",
    "    if not os.path.exists(p):\n",
    "        os.makedirs(p)"
   ]
  },
  {
   "cell_type": "code",
   "execution_count": null,
   "metadata": {},
   "outputs": [],
   "source": [
    "for dataset in datasets:\n",
    "    for framework in frameworks:\n",
    "        source_path = os.path.join('..', '..', 'thesis-results', 'datasets-divided', framework, dataset)\n",
    "        if not os.path.exists(source_path):\n",
    "            continue\n",
    "        values = []\n",
    "        exps = [exp for exp in os.listdir(source_path) if exp.startswith('run')]\n",
    "        for run, exp in enumerate(sorted(exps)):\n",
    "            with open(os.path.join(source_path, exp, 'results.json')) as f:\n",
    "                data = json.load(f)\n",
    "            aux = {}\n",
    "            for key, value in data.items():\n",
    "                if isinstance(value, list) and (isinstance(value[0], float) or isinstance(value[0], int)):\n",
    "                    aux[key] = [np.nanmean(np.array(value, dtype=np.float32))]\n",
    "            \n",
    "            values.append(pd.DataFrame(aux))\n",
    "        df = pd.concat(values)\n",
    "        df.to_csv(os.path.join(save_path,  dataset, f'{framework}-results.csv'), index=False)"
   ]
  }
 ],
 "metadata": {
  "kernelspec": {
   "display_name": "edca",
   "language": "python",
   "name": "edca"
  },
  "language_info": {
   "codemirror_mode": {
    "name": "ipython",
    "version": 3
   },
   "file_extension": ".py",
   "mimetype": "text/x-python",
   "name": "python",
   "nbconvert_exporter": "python",
   "pygments_lexer": "ipython3",
   "version": "3.8.16"
  }
 },
 "nbformat": 4,
 "nbformat_minor": 2
}
