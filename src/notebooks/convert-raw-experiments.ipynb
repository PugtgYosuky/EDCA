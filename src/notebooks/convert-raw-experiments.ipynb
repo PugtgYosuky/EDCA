{
 "cells": [
  {
   "cell_type": "markdown",
   "metadata": {},
   "source": [
    "# Converts raw experiments into files to be used in the analysis\n",
    "\n",
    "This notebook receives the raw experiments, divides them into different folder according to their characteristics, puts them in the right format to be analysed"
   ]
  },
  {
   "cell_type": "code",
   "execution_count": 6,
   "metadata": {},
   "outputs": [],
   "source": [
    "import os\n",
    "import shutil\n",
    "import json\n",
    "import pandas as pd\n",
    "import numpy as np\n",
    "from scipy import stats"
   ]
  },
  {
   "cell_type": "code",
   "execution_count": 4,
   "metadata": {},
   "outputs": [],
   "source": [
    "framework = 'edca-1-0-0'"
   ]
  },
  {
   "cell_type": "code",
   "execution_count": 5,
   "metadata": {},
   "outputs": [],
   "source": [
    "# path to the raw experiments, change as you desire\n",
    "source_path = os.path.join('..', '..', 'thesis-results', f'{framework}-experiments', )"
   ]
  },
  {
   "cell_type": "code",
   "execution_count": 6,
   "metadata": {},
   "outputs": [],
   "source": [
    "# path to store the divided datasets, change as you desire\n",
    "path = os.path.join('..', '..', 'thesis-results', 'datasets-divided', framework)"
   ]
  },
  {
   "cell_type": "code",
   "execution_count": 7,
   "metadata": {},
   "outputs": [],
   "source": [
    "if not os.path.exists(path):\n",
    "    os.makedirs(path)"
   ]
  },
  {
   "cell_type": "markdown",
   "metadata": {},
   "source": [
    "## Divide into datasets"
   ]
  },
  {
   "cell_type": "code",
   "execution_count": 3,
   "metadata": {},
   "outputs": [
    {
     "ename": "NameError",
     "evalue": "name 'source_path' is not defined",
     "output_type": "error",
     "traceback": [
      "\u001b[0;31m---------------------------------------------------------------------------\u001b[0m",
      "\u001b[0;31mNameError\u001b[0m                                 Traceback (most recent call last)",
      "Input \u001b[0;32mIn [3]\u001b[0m, in \u001b[0;36m<cell line: 1>\u001b[0;34m()\u001b[0m\n\u001b[0;32m----> 1\u001b[0m \u001b[38;5;28;01mfor\u001b[39;00m exp \u001b[38;5;129;01min\u001b[39;00m \u001b[38;5;28msorted\u001b[39m(os\u001b[38;5;241m.\u001b[39mlistdir(\u001b[43msource_path\u001b[49m)):\n\u001b[1;32m      2\u001b[0m     \u001b[38;5;28;01mtry\u001b[39;00m:\n\u001b[1;32m      3\u001b[0m         exp_path \u001b[38;5;241m=\u001b[39m os\u001b[38;5;241m.\u001b[39mpath\u001b[38;5;241m.\u001b[39mjoin(source_path, exp)\n",
      "\u001b[0;31mNameError\u001b[0m: name 'source_path' is not defined"
     ]
    }
   ],
   "source": [
    "for exp in sorted(os.listdir(source_path)):\n",
    "    try:\n",
    "        exp_path = os.path.join(source_path, exp)\n",
    "        with open(os.path.join(exp_path, 'config.json'), 'r') as f:\n",
    "            config = json.load(f)\n",
    "        dataset_name = config['dataset'].split('/')[-1].split('.')[0]\n",
    "        dataset_path = os.path.join(path, dataset_name)\n",
    "        if not os.path.exists(dataset_path):\n",
    "            os.makedirs(dataset_path)\n",
    "        # move directory\n",
    "        shutil.copytree(exp_path, os.path.join(dataset_path, exp))\n",
    "    except Exception as e:\n",
    "        print(f'Error with {exp}: {e}')\n",
    "        # continue"
   ]
  },
  {
   "cell_type": "markdown",
   "metadata": {},
   "source": [
    "## Rename experiments"
   ]
  },
  {
   "cell_type": "code",
   "execution_count": 8,
   "metadata": {},
   "outputs": [],
   "source": [
    "for dataset in os.listdir(path):\n",
    "    try:\n",
    "        data_path = os.path.join(path, dataset)\n",
    "        for exp in os.listdir(data_path):\n",
    "            src_path = os.path.join(data_path, exp)\n",
    "            with open(os.path.join(src_path, 'config.json')) as file:\n",
    "                config = json.load(file)\n",
    "            run_number = config['seed_pos']\n",
    "            dst_path = os.path.join(data_path, f'run_{run_number}')\n",
    "            os.rename(src_path, dst_path)\n",
    "    except:\n",
    "        continue"
   ]
  },
  {
   "cell_type": "code",
   "execution_count": 9,
   "metadata": {},
   "outputs": [
    {
     "name": "stdout",
     "output_type": "stream",
     "text": [
      "car 30\n",
      "kr-vs-kp 30\n",
      "Australian 30\n",
      "cnae-9 30\n",
      "credit-g 30\n",
      "bank-marketing 30\n",
      "mfeat-factors 30\n",
      "Amazon_employee_access 30\n",
      "adult 30\n",
      "PT_CA_deliveries 30\n"
     ]
    }
   ],
   "source": [
    "# confirm if all datasets have the same number of runs\n",
    "for dataset in os.listdir(path):\n",
    "    try:\n",
    "        runs = [r for r in os.listdir(os.path.join(path, dataset)) if r.startswith('run')]\n",
    "        print(dataset, len(runs))\n",
    "    except:\n",
    "        continue"
   ]
  }
 ],
 "metadata": {
  "kernelspec": {
   "display_name": "thesis",
   "language": "python",
   "name": "python3"
  },
  "language_info": {
   "codemirror_mode": {
    "name": "ipython",
    "version": 3
   },
   "file_extension": ".py",
   "mimetype": "text/x-python",
   "name": "python",
   "nbconvert_exporter": "python",
   "pygments_lexer": "ipython3",
   "version": "3.8.16"
  }
 },
 "nbformat": 4,
 "nbformat_minor": 2
}
