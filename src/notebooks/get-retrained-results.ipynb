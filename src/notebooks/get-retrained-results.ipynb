{
 "cells": [
  {
   "cell_type": "code",
   "execution_count": 26,
   "metadata": {},
   "outputs": [],
   "source": [
    "import json\n",
    "import pandas as pd\n",
    "import os\n",
    "import numpy as np"
   ]
  },
  {
   "cell_type": "code",
   "execution_count": 27,
   "metadata": {},
   "outputs": [],
   "source": [
    "framework = 'flaml-edca-1-0-0'"
   ]
  },
  {
   "cell_type": "code",
   "execution_count": 28,
   "metadata": {},
   "outputs": [],
   "source": [
    "path = f'../../thesis-results/sota-with-edca-data/{framework}-results'"
   ]
  },
  {
   "cell_type": "code",
   "execution_count": 29,
   "metadata": {},
   "outputs": [],
   "source": [
    "datasets = list(sorted(['adult', 'Australian', 'cnae-9', 'credit-g', 'mfeat-factors', 'bank-marketing', 'Amazon_employee_access'])) # 'kr-vs-kp',"
   ]
  },
  {
   "cell_type": "code",
   "execution_count": 30,
   "metadata": {},
   "outputs": [],
   "source": [
    "runs = 30"
   ]
  },
  {
   "cell_type": "code",
   "execution_count": 31,
   "metadata": {},
   "outputs": [],
   "source": [
    "save_path = os.path.join('..', '..', 'data', 'results-csv')\n",
    "if not os.path.exists(save_path):\n",
    "    os.makedirs(save_path)"
   ]
  },
  {
   "cell_type": "code",
   "execution_count": 32,
   "metadata": {},
   "outputs": [],
   "source": [
    "for dataset in datasets:\n",
    "    p = os.path.join(save_path, dataset)\n",
    "    if not os.path.exists(p):\n",
    "        os.makedirs(p)"
   ]
  },
  {
   "cell_type": "code",
   "execution_count": 33,
   "metadata": {},
   "outputs": [
    {
     "name": "stdout",
     "output_type": "stream",
     "text": [
      "Processing Amazon_employee_access\n",
      "Processing Australian\n",
      "Processing adult\n",
      "Processing bank-marketing\n",
      "Processing cnae-9\n",
      "Processing credit-g\n",
      "Processing mfeat-factors\n"
     ]
    }
   ],
   "source": [
    "for dataset in datasets:\n",
    "    print(f'Processing {dataset}')\n",
    "    values = [pd.DataFrame()]\n",
    "    for run in range(runs):\n",
    "        try:\n",
    "            with open(os.path.join(path, f'results_{dataset}_{run}.json'), 'r') as f:\n",
    "                data = json.load(f)\n",
    "                aux = {}\n",
    "                for key, value in data.items():\n",
    "                    if isinstance(value, list) and (isinstance(value[0], float) or isinstance(value[0], int)):\n",
    "                        aux[key] = [np.nanmean(np.array(value, dtype=np.float32))]\n",
    "                values.append(pd.DataFrame(aux))\n",
    "        except:\n",
    "            print(f'Error processing {dataset} run {run}')\n",
    "    df = pd.concat(values)\n",
    "    df.to_csv(os.path.join(save_path,  dataset, f'{framework}-results.csv'), index=False)"
   ]
  }
 ],
 "metadata": {
  "kernelspec": {
   "display_name": "thesis",
   "language": "python",
   "name": "python3"
  },
  "language_info": {
   "codemirror_mode": {
    "name": "ipython",
    "version": 3
   },
   "file_extension": ".py",
   "mimetype": "text/x-python",
   "name": "python",
   "nbconvert_exporter": "python",
   "pygments_lexer": "ipython3",
   "version": "3.8.16"
  }
 },
 "nbformat": 4,
 "nbformat_minor": 2
}
