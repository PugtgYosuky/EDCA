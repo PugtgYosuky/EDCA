{
 "cells": [
  {
   "cell_type": "code",
   "execution_count": 31,
   "metadata": {},
   "outputs": [],
   "source": [
    "import pandas as pd\n",
    "import os\n",
    "import openml"
   ]
  },
  {
   "cell_type": "code",
   "execution_count": 32,
   "metadata": {},
   "outputs": [],
   "source": [
    "save_path = os.path.join('..', '..', 'data', 'datasets')"
   ]
  },
  {
   "cell_type": "code",
   "execution_count": 33,
   "metadata": {},
   "outputs": [],
   "source": [
    "if not os.path.exists(save_path):\n",
    "    os.makedirs(save_path)"
   ]
  },
  {
   "cell_type": "code",
   "execution_count": 34,
   "metadata": {},
   "outputs": [],
   "source": [
    "datasets = {\n",
    "    'Amazon_employee_access': 4135,\n",
    "    'Australian' : 40981,\n",
    "    'adult' : 1590,\n",
    "    'bank-marketing': 1461,\n",
    "    'cnae-9' : 1468,\n",
    "    'credit-g': 31,\n",
    "    'mfeat-factors' : 12,\n",
    "}"
   ]
  },
  {
   "cell_type": "code",
   "execution_count": 35,
   "metadata": {},
   "outputs": [],
   "source": [
    "def save_dataset(dataset_id):\n",
    "    dataset = openml.datasets.get_dataset(dataset_id)\n",
    "    X, y, _, _ = dataset.get_data(target=dataset.default_target_attribute)\n",
    "    X['class'] = y # use the same class name for all to make it easier to load\n",
    "    X.to_csv(os.path.join(save_path, f'{dataset.name}.csv'), index=False)"
   ]
  },
  {
   "cell_type": "code",
   "execution_count": 36,
   "metadata": {},
   "outputs": [
    {
     "name": "stdout",
     "output_type": "stream",
     "text": [
      "Saving Amazon_employee_access\n",
      "Saving Australian\n",
      "Saving adult\n",
      "Saving bank-marketing\n",
      "Saving cnae-9\n",
      "Saving credit-g\n",
      "Saving mfeat-factors\n"
     ]
    }
   ],
   "source": [
    "for dataset_name, dataset_id in datasets.items():\n",
    "    print(f'Saving {dataset_name}')\n",
    "    save_dataset(dataset_id)"
   ]
  }
 ],
 "metadata": {
  "kernelspec": {
   "display_name": "edca",
   "language": "python",
   "name": "edca"
  },
  "language_info": {
   "codemirror_mode": {
    "name": "ipython",
    "version": 3
   },
   "file_extension": ".py",
   "mimetype": "text/x-python",
   "name": "python",
   "nbconvert_exporter": "python",
   "pygments_lexer": "ipython3",
   "version": "3.8.16"
  },
  "orig_nbformat": 4
 },
 "nbformat": 4,
 "nbformat_minor": 2
}
